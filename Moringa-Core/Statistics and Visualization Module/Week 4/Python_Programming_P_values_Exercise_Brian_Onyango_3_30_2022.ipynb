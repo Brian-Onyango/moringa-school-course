{
  "cells": [
    {
      "cell_type": "markdown",
      "metadata": {
        "id": "zET8mJ6x00P5"
      },
      "source": [
        "<font color=\"green\">*To start working on this notebook, or any other notebook that we will use in the Moringa Data Science Course, we will need to save our own copy of it. We can do this by clicking File > Save a Copy in Drive. We will then be able to make edits to our own copy of this notebook.*</font>"
      ]
    },
    {
      "cell_type": "markdown",
      "metadata": {
        "id": "9aiC1Pw8PUOK"
      },
      "source": [
        "# Python Programming: P-values Exercise"
      ]
    },
    {
      "cell_type": "markdown",
      "metadata": {
        "id": "6mM9tSmjPe_z"
      },
      "source": [
        "## Question 1"
      ]
    },
    {
      "cell_type": "markdown",
      "metadata": {
        "id": "TvPSIOCVP7h_"
      },
      "source": [
        "The Ministry of Roads and Transportation requires tire manufacturers to provide performance information on tire sidewalls to help prospective buyers make their purchasing decisions. One very important piece of information is the tread wear index, which indicates the tire’s resistance to tread wear. A tire with a grade of 200 should last twice as long, on average, as a tire with a grade of 100.\n",
        "A consumer organization wants to test the actual tread wear index of a brand name of tires that claims “graded 200” on the sidewall of the tire. A random sample of n = 18 indicates a sample mean tread wear index of 195.3 and a sample standard devia- tion of 21.4.\n",
        "\n",
        "1.   Is there evidence that the population mean tread wear index is different from 200? (Use a 0.05 level of significance.)\n",
        "2.   Determine the p-value and interpret its meaning.\n"
      ]
    },
    {
      "cell_type": "code",
      "execution_count": 13,
      "metadata": {
        "colab": {
          "base_uri": "https://localhost:8080/"
        },
        "id": "eOV0l_iOPOT7",
        "outputId": "fe514cbc-f59a-49d9-863e-6f7f9a477c81"
      },
      "outputs": [
        {
          "name": "stdout",
          "output_type": "stream",
          "text": [
            "-0.9317949172645136\n",
            "0.3644878455621575\n",
            "Accept H0: there evidence that the population mean tread wear index is not different from 200\n"
          ]
        }
      ],
      "source": [
        "# t Test for Hypothesis of the Mean\n",
        "#define the variables\n",
        "import scipy\n",
        "import math\n",
        "import scipy.stats\n",
        "import statistics\n",
        "sample_mean=195.3\n",
        "pop_mean=200\n",
        "std=21.4\n",
        "n=18\n",
        "df=n-1\n",
        "alpha=0.05\n",
        "#define the t score\n",
        "t=(sample_mean-pop_mean)/(std/math.sqrt(n))\n",
        "print(t)\n",
        "#determine the p-value\n",
        "p=scipy.stats.t.sf(abs(t),df)*2\n",
        "print(p)\n",
        "#hypothesis\n",
        "#H0: m=200 vs H1: M!=200\n",
        "if p> alpha:\n",
        "  print('Accept H0: there evidence that the population mean tread wear index is not different from 200')\n",
        "else:\n",
        "  print('Reject H0: there evidence that the population mean tread wear index is not different from 200')"
      ]
    },
    {
      "cell_type": "markdown",
      "metadata": {
        "id": "GBzjNgPqPkUQ"
      },
      "source": [
        "## Question 2"
      ]
    },
    {
      "cell_type": "markdown",
      "metadata": {
        "id": "6su2PWYPSwaB"
      },
      "source": [
        "The following data represents the amount of soft drink filled in a sample of 50 consecutive 2-liter bottles. The results, listed horizontally in the order of being filled, were:\n",
        "\n",
        "2.109 2.086 2.036 2.038 2.015 2.014 2.005 2.003 1.984 1.981 1.963 1.957 1.908 1.894\n",
        "2.066 2.075 2.031 2.029 2.013 2.014 1.999 1.996 1.973 1.975 1.951 1.951\n",
        "2.065 2.057 2.025 2.029 2.012 2.012 1.997 1.992 1.971 1.969 1.947 1.941\n",
        "2.052 2.044 2.023 2.020 2.012 2.010 1.994 1.986 1.966 1.967 1.941 1.938\n",
        "\n",
        "1. At the 0.05 level of significance, is there evidence that the mean amount of soft drink filled is different from 2.0 liters?\n",
        "2. Determine the p-value in (1) and interpret its meaning. \n",
        "3. In (1), you assumed that the distribution of the amount of soft drink filled was normally distributed. Evaluate this assumption by constructing a boxplot or a normal probability plot.\n",
        "4. Do you think that the assumption needed in order to conduct the t test in (1) is valid? Explain.\n",
        "5. Examine the values of the 50 bottles in their sequential order, as given in the problem. Does there appear to be a pattern to the results? If so, what impact might this pattern have on the validity of the results in (1)?"
      ]
    },
    {
      "cell_type": "code",
      "execution_count": 14,
      "metadata": {
        "colab": {
          "base_uri": "https://localhost:8080/",
          "height": 272
        },
        "id": "fgiqIWaSPmNg",
        "outputId": "629e1727-931b-4d26-a79d-a469324d93c4"
      },
      "outputs": [
        {
          "ename": "TypeError",
          "evalue": "ignored",
          "output_type": "error",
          "traceback": [
            "\u001b[0;31m---------------------------------------------------------------------------\u001b[0m",
            "\u001b[0;31mTypeError\u001b[0m                                 Traceback (most recent call last)",
            "\u001b[0;32m<ipython-input-14-5e9af08fd9d6>\u001b[0m in \u001b[0;36m<module>\u001b[0;34m()\u001b[0m\n\u001b[1;32m      2\u001b[0m \u001b[0;31m#varaiables\u001b[0m\u001b[0;34m\u001b[0m\u001b[0;34m\u001b[0m\u001b[0;34m\u001b[0m\u001b[0m\n\u001b[1;32m      3\u001b[0m \u001b[0msample_softdrinks\u001b[0m \u001b[0;34m=\u001b[0m \u001b[0;34m[\u001b[0m\u001b[0;36m2.109\u001b[0m\u001b[0;34m,\u001b[0m\u001b[0;36m2.086\u001b[0m\u001b[0;34m,\u001b[0m\u001b[0;36m2.036\u001b[0m\u001b[0;34m,\u001b[0m\u001b[0;36m2.038\u001b[0m\u001b[0;34m,\u001b[0m\u001b[0;36m2.015\u001b[0m\u001b[0;34m,\u001b[0m\u001b[0;36m2.014\u001b[0m\u001b[0;34m,\u001b[0m\u001b[0;36m2.005\u001b[0m\u001b[0;34m,\u001b[0m\u001b[0;36m2.003\u001b[0m\u001b[0;34m,\u001b[0m\u001b[0;36m1.984\u001b[0m\u001b[0;34m,\u001b[0m\u001b[0;36m1.981\u001b[0m\u001b[0;34m,\u001b[0m\u001b[0;36m1.963\u001b[0m\u001b[0;34m,\u001b[0m\u001b[0;36m1.957\u001b[0m\u001b[0;34m,\u001b[0m\u001b[0;36m1.908\u001b[0m\u001b[0;34m,\u001b[0m\u001b[0;36m1.894\u001b[0m\u001b[0;34m,\u001b[0m\u001b[0;36m2.066\u001b[0m\u001b[0;34m,\u001b[0m\u001b[0;36m2.075\u001b[0m\u001b[0;34m,\u001b[0m\u001b[0;36m2.031\u001b[0m\u001b[0;34m,\u001b[0m\u001b[0;36m2.029\u001b[0m\u001b[0;34m,\u001b[0m\u001b[0;36m2.013\u001b[0m\u001b[0;34m,\u001b[0m\u001b[0;36m2.014\u001b[0m\u001b[0;34m,\u001b[0m\u001b[0;36m1.999\u001b[0m\u001b[0;34m,\u001b[0m\u001b[0;36m1.996\u001b[0m\u001b[0;34m,\u001b[0m\u001b[0;36m1.973\u001b[0m\u001b[0;34m,\u001b[0m\u001b[0;36m1.975\u001b[0m\u001b[0;34m,\u001b[0m\u001b[0;36m1.951\u001b[0m\u001b[0;34m,\u001b[0m\u001b[0;36m1.951\u001b[0m\u001b[0;34m,\u001b[0m\u001b[0;36m2.065\u001b[0m\u001b[0;34m,\u001b[0m\u001b[0;36m2.057\u001b[0m\u001b[0;34m,\u001b[0m\u001b[0;36m2.025\u001b[0m\u001b[0;34m,\u001b[0m\u001b[0;36m2.029\u001b[0m\u001b[0;34m,\u001b[0m\u001b[0;36m2.012\u001b[0m\u001b[0;34m,\u001b[0m\u001b[0;36m2.012\u001b[0m\u001b[0;34m,\u001b[0m\u001b[0;36m1.997\u001b[0m\u001b[0;34m,\u001b[0m\u001b[0;36m1.992\u001b[0m\u001b[0;34m,\u001b[0m\u001b[0;36m1.971\u001b[0m\u001b[0;34m,\u001b[0m\u001b[0;36m1.969\u001b[0m\u001b[0;34m,\u001b[0m\u001b[0;36m1.947\u001b[0m\u001b[0;34m,\u001b[0m\u001b[0;36m1.941\u001b[0m\u001b[0;34m,\u001b[0m\u001b[0;36m2.052\u001b[0m\u001b[0;34m,\u001b[0m\u001b[0;36m2.044\u001b[0m\u001b[0;34m,\u001b[0m\u001b[0;36m2.023\u001b[0m\u001b[0;34m,\u001b[0m\u001b[0;36m2.020\u001b[0m\u001b[0;34m,\u001b[0m\u001b[0;36m2.012\u001b[0m\u001b[0;34m,\u001b[0m\u001b[0;36m2.010\u001b[0m\u001b[0;34m,\u001b[0m\u001b[0;36m1.994\u001b[0m\u001b[0;34m,\u001b[0m\u001b[0;36m1.986\u001b[0m\u001b[0;34m,\u001b[0m\u001b[0;36m1.966\u001b[0m\u001b[0;34m,\u001b[0m\u001b[0;36m1.967\u001b[0m\u001b[0;34m,\u001b[0m\u001b[0;36m1.941\u001b[0m\u001b[0;34m,\u001b[0m\u001b[0;36m1.938\u001b[0m\u001b[0;34m]\u001b[0m\u001b[0;34m\u001b[0m\u001b[0;34m\u001b[0m\u001b[0m\n\u001b[0;32m----> 4\u001b[0;31m \u001b[0msample_meandrink\u001b[0m\u001b[0;34m=\u001b[0m \u001b[0mMean\u001b[0m\u001b[0;34m(\u001b[0m\u001b[0msample_softdrinks\u001b[0m\u001b[0;34m)\u001b[0m\u001b[0;34m\u001b[0m\u001b[0;34m\u001b[0m\u001b[0m\n\u001b[0m\u001b[1;32m      5\u001b[0m \u001b[0mn_drinks\u001b[0m\u001b[0;34m=\u001b[0m\u001b[0mlen\u001b[0m\u001b[0;34m(\u001b[0m\u001b[0msample_softdrinks\u001b[0m\u001b[0;34m)\u001b[0m\u001b[0;34m\u001b[0m\u001b[0;34m\u001b[0m\u001b[0m\n\u001b[1;32m      6\u001b[0m \u001b[0mpop_drink_mean\u001b[0m\u001b[0;34m=\u001b[0m\u001b[0;36m2.0\u001b[0m\u001b[0;34m\u001b[0m\u001b[0;34m\u001b[0m\u001b[0m\n",
            "\u001b[0;31mTypeError\u001b[0m: __new__() missing 1 required positional argument: 'minmax'"
          ]
        }
      ],
      "source": [
        "from scipy.stats.morestats import Mean\n",
        "#varaiables\n",
        "sample_softdrinks = [2.109,2.086,2.036,2.038,2.015,2.014,2.005,2.003,1.984,1.981,1.963,1.957,1.908,1.894,2.066,2.075,2.031,2.029,2.013,2.014,1.999,1.996,1.973,1.975,1.951,1.951,2.065,2.057,2.025,2.029,2.012,2.012,1.997,1.992,1.971,1.969,1.947,1.941,2.052,2.044,2.023,2.020,2.012,2.010,1.994,1.986,1.966,1.967,1.941,1.938]\n",
        "sample_meandrink= Mean(sample_softdrinks)\n",
        "n_drinks=len(sample_softdrinks)\n",
        "pop_drink_mean=2.0\n",
        "std_drink=statistics.stdev(sample_softdrinks)\n",
        "#z score\n",
        "t=(sample_meandrink-pop_drink_mean)/(std_drink/math.sqrt(n_drinks))\n",
        "t\n",
        "p-value\n",
        "Drink_pvalue=scipy.stats.norm.sf(abs(z))*2\n",
        "Drink_pvalue\n",
        "#box plot on the normal probability distribution\n",
        "import matplotlib.pyplot as plt\n",
        "import numpy as np\n",
        "#create create the box plot by using numpy.random.normal()\n",
        "norma_data=np.random.normal(sample_softdrinks)\n",
        "#plotting\n",
        "plt.boxplot(norma_data)\n",
        "plt.show()\n",
        "#Examine the values of the 50 bottles in their sequential order, as given in the\n",
        "#problem. Does there appear to be a pattern to the results? If so, what impact might this pattern\n",
        "# have on the validity of the results in (1)?\n",
        "sample_softdrinks[0:50]"
      ]
    },
    {
      "cell_type": "markdown",
      "metadata": {
        "id": "0MlbMO7mPoO8"
      },
      "source": [
        "## Question 3"
      ]
    },
    {
      "cell_type": "markdown",
      "metadata": {
        "id": "awqKcADiUdyT"
      },
      "source": [
        "The population mean waiting time to check out of a supermarket has been 4 minutes. recently, in an effort to reduce the waiting time, the supermarket has experimented with a system in which infrared cameras use body heat and in-store software to determine how many lanes should be opened. A sample of 100 customers was selected, and their mean waiting time to check out was 3.25 minutes, with a sample standard deviation of 2.7 minutes.\n",
        "\n",
        "1. At the 0.05 level of significance, using the p-value approach to hypothesis testing, is there evidence that the population mean waiting time to check out is less than 4 minutes?\n",
        "2. Interpret the meaning of the p-value in this problem.  "
      ]
    },
    {
      "cell_type": "code",
      "execution_count": 11,
      "metadata": {
        "colab": {
          "base_uri": "https://localhost:8080/"
        },
        "id": "86VoKwOMPrH1",
        "outputId": "2ee2fb85-ead4-4c46-9133-fba440e245ce"
      },
      "outputs": [
        {
          "name": "stdout",
          "output_type": "stream",
          "text": [
            "-0.27777777777777773\n",
            "0.39059147543357503\n"
          ]
        }
      ],
      "source": [
        "#Z score\n",
        "z_score= (3.25-4)/2.7\n",
        "print(z_score)\n",
        "#p-value\n",
        "p_value_sup=scipy.stats.norm.sf(abs(z_score))\n",
        "print(p_value_sup)"
      ]
    },
    {
      "cell_type": "markdown",
      "metadata": {
        "id": "yGGq-E5IPrqz"
      },
      "source": [
        "## Question 4"
      ]
    },
    {
      "cell_type": "markdown",
      "metadata": {
        "id": "yFU6w1bNVRhO"
      },
      "source": [
        "A survey of nonprofit organizations showed that online fun- draising has increased in the past year. Based on a random sample of 55 nonprofit organizations, the mean one-time gift donation in the past year was Ksh. 750, with a standard deviation of Ksh. 900.\n",
        "\n",
        "1. If you test the null hypothesis at the 0.01 level of significance, is there evidence that the mean one-time gift donation is greater than Ksh. 700?\n",
        "2. Interpret the meaning of the p-value in this problem."
      ]
    },
    {
      "cell_type": "code",
      "execution_count": 12,
      "metadata": {
        "colab": {
          "base_uri": "https://localhost:8080/"
        },
        "id": "LPRpuQe1PtI0",
        "outputId": "32faf85c-51d7-43a4-8d7b-0cf055dcb287"
      },
      "outputs": [
        {
          "name": "stdout",
          "output_type": "stream",
          "text": [
            "0.05555555555555555\n",
            "0.4778479356582178\n"
          ]
        }
      ],
      "source": [
        "#Z score\n",
        "z=(750-700)/900\n",
        "print(z)\n",
        "#p-value\n",
        "P_nonprofit= scipy.stats.norm.sf(z)\n",
        "print(P_nonprofit)"
      ]
    },
    {
      "cell_type": "markdown",
      "metadata": {
        "id": "pI5iuOyWPtiy"
      },
      "source": [
        "## Question 5"
      ]
    },
    {
      "cell_type": "markdown",
      "metadata": {
        "id": "1llPF-60lCVw"
      },
      "source": [
        "A problem with a phone line that prevents a customer from receiving or making calls is upsetting to both the customer and the telecommunications company. The file Phone contains samples of 20 problems reported to two different offices of a telecommuni- cations company and the time to clear these problems (in minutes) from the customers’ lines:\n",
        "\n",
        "Central Office I Time to Clear Problems (minutes)\n",
        "1.48 1.75 0.78 2.85 0.52 1.60 4.15 3.97 1.48 3.10 1.02 0.53 0.93 1.60 0.80 1.05 6.32 3.93 5.45 0.97\n",
        "\n",
        "Central Office II Time to Clear Problems (minutes)\n",
        "7.55 3.75 0.10 1.10 0.60 0.52 3.30 2.10 0.58 4.02 3.75 0.65 1.92 0.60 1.53 4.23 0.08 1.48 1.65 0.72\n",
        "\n",
        "1. Assuming that the population variances from both offices are equal, is there evidence of a difference in the mean waiting time between the two offices? (Use a = 0.05.)\n",
        "2. Find the p-value in (1) and interpret its meaning.\n",
        "3. What other assumption is necessary in (1)?\n",
        "4. Assuming that the population variances from both offices are equal, construct and interpret a 95% confidence interval estimate of the difference between the population means in the two offices."
      ]
    },
    {
      "cell_type": "code",
      "execution_count": 15,
      "metadata": {
        "colab": {
          "base_uri": "https://localhost:8080/",
          "height": 235
        },
        "id": "-zGKBL30Pvii",
        "outputId": "29bbe081-dd9f-49ab-d1d6-af18fcaffe4e"
      },
      "outputs": [
        {
          "ename": "TypeError",
          "evalue": "ignored",
          "output_type": "error",
          "traceback": [
            "\u001b[0;31m---------------------------------------------------------------------------\u001b[0m",
            "\u001b[0;31mTypeError\u001b[0m                                 Traceback (most recent call last)",
            "\u001b[0;32m<ipython-input-15-88a9e502c318>\u001b[0m in \u001b[0;36m<module>\u001b[0;34m()\u001b[0m\n\u001b[1;32m      2\u001b[0m Central_Office1 = [1.48, 1.75, 0.78, 2.85, 0.52, 1.60, 4.15, 3.97, 1.48, 3.10, 1.02, 0.53,\n\u001b[1;32m      3\u001b[0m                    0.93, 1.60, 0.80, 1.05, 6.32, 3.93, 5.45, 0.97]\n\u001b[0;32m----> 4\u001b[0;31m \u001b[0mMean1\u001b[0m\u001b[0;34m=\u001b[0m \u001b[0mMean\u001b[0m\u001b[0;34m(\u001b[0m\u001b[0mCentral_Office1\u001b[0m\u001b[0;34m)\u001b[0m\u001b[0;34m\u001b[0m\u001b[0;34m\u001b[0m\u001b[0m\n\u001b[0m\u001b[1;32m      5\u001b[0m \u001b[0mMean1\u001b[0m\u001b[0;34m\u001b[0m\u001b[0;34m\u001b[0m\u001b[0m\n\u001b[1;32m      6\u001b[0m Central_Office2=[ 7.55, 3.75, 0.10, 1.10, 0.60, 0.52, 3.30, 2.10, 0.58, 4.02, 3.75, 0.65,\n",
            "\u001b[0;31mTypeError\u001b[0m: __new__() missing 1 required positional argument: 'minmax'"
          ]
        }
      ],
      "source": [
        "#variables\n",
        "Central_Office1 = [1.48, 1.75, 0.78, 2.85, 0.52, 1.60, 4.15, 3.97, 1.48, 3.10, 1.02, 0.53,\n",
        "                   0.93, 1.60, 0.80, 1.05, 6.32, 3.93, 5.45, 0.97]\n",
        "Mean1= Mean(Central_Office1)\n",
        "Mean1\n",
        "Central_Office2=[ 7.55, 3.75, 0.10, 1.10, 0.60, 0.52, 3.30, 2.10, 0.58, 4.02, 3.75, 0.65,\n",
        "                 1.92, 0.60, 1.53, 4.23, 0.08, 1.48, 1.65, 0.72]\n",
        "Mean2=Mean(Central_Office2)\n",
        "sigma=Mean1-Mean2\n",
        "sigma\n",
        "#calculate the variance of two samples\n",
        "#central office 1\n",
        "office1_variance=statistics.variance(Central_Office1)\n",
        "#for office2\n",
        "office2_variance=statistics.variance(Central_Office2)\n",
        "#spooled variance\n",
        "sp=(len(Central_Office1)-1)*office1_variance + (len(Central_Office2)-1)*office2_variance/(len(Central_Office2) + len(Central_Office1) - 2)\n",
        "sp\n",
        "#T score\n",
        "t_5=(Mean1 - Mean2)/math.sqrt(sp*(1/20 + 1/20))\n",
        "t_5\n",
        "#p-value\n",
        "P_5=scipy.stats.t.sf(abs(t_5), (len(Central_Office1) + len(Central_Office2)-2))*2\n",
        "P_5"
      ]
    },
    {
      "cell_type": "markdown",
      "metadata": {
        "id": "bJACLM_aPxgh"
      },
      "source": [
        "## Question 6"
      ]
    },
    {
      "cell_type": "markdown",
      "metadata": {
        "id": "b0reIjDDrIWX"
      },
      "source": [
        "A bank with a branch located in a commercial district of a city has the business objective of developing an improved process for serving customers during the noon-to-1 p.m. lunch period. Management decides to first study the waiting time in the current process. The waiting time is defined as the number of minutes that elapses from when the customer enters the line until he or she reaches the teller window. Data are collected from a random sample of 15 customers and stored in Bank1. \n",
        "\n",
        "These data are:\n",
        "4.21 5.55 3.02 5.13 4.77 2.34 3.54 3.20 4.50 6.10 0.38 5.12 6.46 6.19 3.79\n",
        "\n",
        "Suppose that another branch, located in a residential area, is also concerned with improving the process of serving customers in the noon-to-1 p.m. lunch period. Data are collected from a random sample of 15 customers and stored in Bank2. \n",
        "\n",
        "These data are:\n",
        "9.66 5.90 8.02 5.79 8.73 3.82 8.01 8.35 10.49 6.68 5.64 4.08 6.17 9.91 5.47\n",
        "\n",
        "\n",
        "1. Assuming that the population variances from both banks are equal, is there evidence of a difference in the mean waiting time between the two branches? (Use a = 0.05.)\n",
        "2. Determine the p-value in (a) and interpret its meaning.\n",
        "3. In addition to equal variances, what other assumption is neces-\n",
        "sary in (a)?\n",
        "4. Construct and interpret a 95% confidence interval estimate\n",
        "of the difference between the population means in the two branches."
      ]
    },
    {
      "cell_type": "code",
      "execution_count": null,
      "metadata": {
        "id": "wu5rk7fNPy6J"
      },
      "outputs": [],
      "source": [
        "#define the lists\n",
        "bank1=[4.21, 5.55, 3.02, 5.13, 4.77, 2.34, 3.54, 3.20, 4.50, 6.10, 0.38,\n",
        "            5.12, 6.46, 6.19, 3.79]\n",
        "bank2=[9.66, 5.90, 8.02, 5.79, 8.73, 3.82, 8.01, 8.35, 10.49, 6.68, 5.64,\n",
        "            4.08, 6.17, 9.91, 5.47]\n",
        "#claculate the mean of two lists\n",
        "mean_bank1=Mean(bank1)\n",
        "mean_bank2=Mean(bank2)\n",
        "#calculate the variance of the two lists\n",
        "variance_bank1=statistics.variance(bank1)\n",
        "variance_bank2=statistics.variance(bank2)\n",
        "#define spooled variance\n",
        "sp_banks=(len(bank1)-1)*variance_bank1 +(len(bank2)-1)*variance_bank2/len(bank1) + len(bank2) -2\n",
        "sp_banks\n",
        "#tscore\n",
        "t_banks=(mean_bank1 - mean_bank2 )/ math.sqrt(sp_banks*(1/15 +1/15))\n",
        "t_banks\n",
        "#the pvalues\n",
        "p_banks=scipy.stats.t.sf(abs(t_banks), len(bank1) + len(bank2) -2)*2\n",
        "p_banks"
      ]
    }
  ],
  "metadata": {
    "colab": {
      "collapsed_sections": [
        "6mM9tSmjPe_z",
        "GBzjNgPqPkUQ",
        "0MlbMO7mPoO8",
        "yGGq-E5IPrqz",
        "pI5iuOyWPtiy",
        "bJACLM_aPxgh"
      ],
      "name": "Python Programming: P-values Exercise: Brian Onyango --3/30/2022",
      "provenance": [],
      "toc_visible": true
    },
    "kernelspec": {
      "display_name": "Python 3",
      "name": "python3"
    }
  },
  "nbformat": 4,
  "nbformat_minor": 0
}
