{
  "nbformat": 4,
  "nbformat_minor": 0,
  "metadata": {
    "colab": {
      "name": "Poisson Distribution:Predict the final rank of Real Madrid: Brian Onyango --3/23/2022",
      "provenance": [],
      "toc_visible": true
    },
    "kernelspec": {
      "name": "python3",
      "display_name": "Python 3"
    },
    "language_info": {
      "name": "python"
    }
  },
  "cells": [
    {
      "cell_type": "markdown",
      "source": [
        "#Poisson Distribution "
      ],
      "metadata": {
        "id": "nBJG1e6PqJ6Q"
      }
    },
    {
      "cell_type": "markdown",
      "source": [
        "## 1 Defining the Question"
      ],
      "metadata": {
        "id": "fFE3-pwvrKNW"
      }
    },
    {
      "cell_type": "markdown",
      "source": [
        "### Specifying the Data Analytic Question"
      ],
      "metadata": {
        "id": "er5BZF9xqETh"
      }
    },
    {
      "cell_type": "markdown",
      "source": [
        "Predict the final rank of Real Madrid on the points table for the current season\n",
        "(2021-2022) of La Liga."
      ],
      "metadata": {
        "id": "pYrGzfOHp2_6"
      }
    },
    {
      "cell_type": "markdown",
      "source": [
        "###Understanding the context "
      ],
      "metadata": {
        "id": "91r2F9B-qqlX"
      }
    },
    {
      "cell_type": "markdown",
      "source": [
        "Read the following article [Link](https://https://towardsdatascience.com/predicting-premier-league-standings-putting-that-math-to-some-use-e8de64938d7) then work on predicting La liga (Spain) standings."
      ],
      "metadata": {
        "id": "ohFUAfgeqsv2"
      }
    },
    {
      "cell_type": "markdown",
      "source": [
        "## 2 Reading the Data"
      ],
      "metadata": {
        "id": "soalJWlGrQPF"
      }
    },
    {
      "cell_type": "code",
      "source": [
        "# Importing relevant libraries\n",
        "import pandas as pd\n",
        "import numpy as np\n",
        "import matplotlib.pyplot as plt\n",
        "import seaborn as sns"
      ],
      "metadata": {
        "id": "EGWONQ1er45d"
      },
      "execution_count": 2,
      "outputs": []
    },
    {
      "cell_type": "code",
      "source": [
        "# Loading the Data from the source i.e. csv\n",
        "# ---\n",
        "# Dataset \n"
      ],
      "metadata": {
        "id": "TSh-AjE3rcwv"
      },
      "execution_count": 4,
      "outputs": []
    }
  ]
}